{
 "cells": [
  {
   "cell_type": "code",
   "execution_count": null,
   "metadata": {},
   "outputs": [],
   "source": [
    "!pip install torch==1.11.0+cu102 torchvision==0.12.0+cu102 -f https://download.pytorch.org/whl/torch_stable.html"
   ]
  },
  {
   "cell_type": "code",
   "execution_count": null,
   "metadata": {},
   "outputs": [],
   "source": [
    "import os\n",
    "os.environ[\"CUDA_VISIBLE_DEVICES\"] = str(0)\n",
    "import torch\n",
    "import numpy as np\n",
    "from PIL import Image\n",
    "from torchvision import transforms"
   ]
  },
  {
   "cell_type": "code",
   "execution_count": null,
   "metadata": {},
   "outputs": [],
   "source": [
    "import torch\n",
    "from models.stylegan2.model import Generator\n",
    "from models.face_parsing.model import BiSeNet\n",
    "import pickle\n",
    "\n",
    "def load_base_models():\n",
    "    ckpt = \"pretrained_models/ffhq.pt\"\n",
    "    g_ema = Generator(1024, 512, 8)\n",
    "    g_ema.load_state_dict(torch.load(ckpt)[\"g_ema\"], strict=False)\n",
    "    g_ema.eval()\n",
    "    g_ema = g_ema.cuda()\n",
    "\n",
    "    mean_latent = torch.load(ckpt)[\"latent_avg\"].unsqueeze(0).unsqueeze(0).repeat(1,18,1).clone().detach().cuda()\n",
    "\n",
    "    seg_pretrained_path = \"pretrained_models/seg.pth\"\n",
    "    seg = BiSeNet(n_classes=16)\n",
    "    seg.load_state_dict(torch.load(seg_pretrained_path), strict=False)\n",
    "    for param in seg.parameters():\n",
    "        param.requires_grad = False\n",
    "    seg.eval()\n",
    "    seg = seg.cuda()\n",
    "\n",
    "    return g_ema, mean_latent, seg"
   ]
  },
  {
   "cell_type": "code",
   "execution_count": null,
   "metadata": {},
   "outputs": [],
   "source": [
    "src_name = '08383'# source image name you want to edit\n",
    "image_transform = transforms.Compose([transforms.ToTensor(),transforms.Normalize([0.5, 0.5, 0.5], [0.5, 0.5, 0.5])])\n",
    "g_ema, mean_latent_code, seg = load_base_models()"
   ]
  }
 ],
 "metadata": {
  "language_info": {
   "name": "python"
  }
 },
 "nbformat": 4,
 "nbformat_minor": 2
}
